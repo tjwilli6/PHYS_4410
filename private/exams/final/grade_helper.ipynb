{
 "cells": [
  {
   "cell_type": "code",
   "execution_count": 1,
   "metadata": {},
   "outputs": [],
   "source": [
    "import numpy as np"
   ]
  },
  {
   "cell_type": "code",
   "execution_count": 13,
   "metadata": {},
   "outputs": [],
   "source": [
    "def Efield(robs,rsrc,q,k=9e9):\n",
    "    robs = np.array(robs)\n",
    "    rsrc = np.array(rsrc)\n",
    "    r = robs - rsrc\n",
    "    rmag = np.linalg.norm(r)\n",
    "    E = k * q / rmag**3 * r\n",
    "    return E"
   ]
  },
  {
   "cell_type": "markdown",
   "metadata": {},
   "source": [
    "## Problem 1"
   ]
  },
  {
   "cell_type": "code",
   "execution_count": 25,
   "metadata": {},
   "outputs": [
    {
     "name": "stdout",
     "output_type": "stream",
     "text": [
      "[0. 0. 0.]\n"
     ]
    }
   ],
   "source": [
    "e = 1.6e-19\n",
    "robs = [0,0,0]\n",
    "q = [0]*4\n",
    "r = [0]*4\n",
    "x = 1; y = 1; z = 1;\n",
    "q[0],r[0] = -e,[-1,1,1]\n",
    "q[1],r[1] = -e,[1,-1,-1]\n",
    "q[2],r[2] = e,[1,1,1]\n",
    "q[3],r[3] = e,[-1,-1,-1]\n",
    "\n",
    "Etot = 0\n",
    "for iq,ir in zip(q,r):\n",
    "    Etot += Efield(robs,ir,iq)\n",
    "\n",
    "print(Etot)"
   ]
  },
  {
   "cell_type": "code",
   "execution_count": 26,
   "metadata": {},
   "outputs": [
    {
     "data": {
      "text/plain": [
       "[[-1, 1, 1], [1, -1, -1], [1, 1, 1], [-1, -1, -1]]"
      ]
     },
     "execution_count": 26,
     "metadata": {},
     "output_type": "execute_result"
    }
   ],
   "source": [
    "r"
   ]
  },
  {
   "cell_type": "code",
   "execution_count": null,
   "metadata": {},
   "outputs": [],
   "source": []
  }
 ],
 "metadata": {
  "kernelspec": {
   "display_name": "Python 3",
   "language": "python",
   "name": "python3"
  },
  "language_info": {
   "codemirror_mode": {
    "name": "ipython",
    "version": 3
   },
   "file_extension": ".py",
   "mimetype": "text/x-python",
   "name": "python",
   "nbconvert_exporter": "python",
   "pygments_lexer": "ipython3",
   "version": "3.7.6"
  }
 },
 "nbformat": 4,
 "nbformat_minor": 4
}
