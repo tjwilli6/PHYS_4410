{
 "cells": [
  {
   "cell_type": "code",
   "execution_count": 1,
   "metadata": {},
   "outputs": [],
   "source": [
    "import numpy as np"
   ]
  },
  {
   "cell_type": "code",
   "execution_count": 2,
   "metadata": {},
   "outputs": [],
   "source": [
    "def calc_field_point(rsrc,qsrc,robs):\n",
    "    k = 9e9\n",
    "    rsrc = np.array(rsrc)\n",
    "    robs = np.array(robs)\n",
    "    r = robs - rsrc\n",
    "    rmag = np.sqrt( np.dot(r,r) )\n",
    "    rhat = r / rmag\n",
    "    print( \"rsrc: {}\".format(rsrc) )\n",
    "    print( \"robs: {}\".format(robs) )\n",
    "    print( \"r = robs-rsrc = {}\".format(r) )\n",
    "    print( \"|r|={:.4f}\".format(rmag))\n",
    "    print( \"rhat={}\".format(rhat))\n",
    "    Emag = k * qsrc / rmag**2\n",
    "    print( \"E = (9e9)({})/{:.4f} <{}>\".format(qsrc,rmag**2,rhat))\n",
    "    print( \"|E|={:.4E}\".format(Emag))\n",
    "    E = Emag * rhat\n",
    "    print( \"E = {:}\".format(Emag*rhat))\n",
    "    return E\n",
    "\n",
    "def calc_potential_point(rsrc,qsrc,robs):\n",
    "    k = 9e9\n",
    "    rsrc = np.array(rsrc)\n",
    "    robs = np.array(robs)\n",
    "    r = robs - rsrc\n",
    "    rmag = np.sqrt( np.dot(r,r) )\n",
    "    V = k * qsrc / rmag\n",
    "    return V"
   ]
  },
  {
   "cell_type": "markdown",
   "metadata": {},
   "source": [
    "# Problem 3"
   ]
  },
  {
   "cell_type": "code",
   "execution_count": 3,
   "metadata": {},
   "outputs": [
    {
     "name": "stdout",
     "output_type": "stream",
     "text": [
      "rsrc: [0.45 0.   0.  ]\n",
      "robs: [0 0 0]\n",
      "r = robs-rsrc = [-0.45  0.    0.  ]\n",
      "|r|=0.4500\n",
      "rhat=[-1.  0.  0.]\n",
      "E = (9e9)(2e-06)/0.2025 <[-1.  0.  0.]>\n",
      "|E|=8.8889E+04\n",
      "E = [-88888.88888889      0.              0.        ]\n",
      "\n",
      "rsrc: [ 0.   -0.45  0.  ]\n",
      "robs: [0 0 0]\n",
      "r = robs-rsrc = [0.   0.45 0.  ]\n",
      "|r|=0.4500\n",
      "rhat=[0. 1. 0.]\n",
      "E = (9e9)(2e-06)/0.2025 <[0. 1. 0.]>\n",
      "|E|=8.8889E+04\n",
      "E = [    0.         88888.88888889     0.        ]\n",
      "\n",
      "rsrc: [ 0.45 -0.45  0.  ]\n",
      "robs: [0 0 0]\n",
      "r = robs-rsrc = [-0.45  0.45  0.  ]\n",
      "|r|=0.6364\n",
      "rhat=[-0.70710678  0.70710678  0.        ]\n",
      "E = (9e9)(-2e-06)/0.4050 <[-0.70710678  0.70710678  0.        ]>\n",
      "|E|=-4.4444E+04\n",
      "E = [ 31426.96805274 -31426.96805274     -0.        ]\n",
      "\n",
      "[-57461.92083615  57461.92083615      0.        ]\n",
      "51715.728752538096\n"
     ]
    }
   ],
   "source": [
    "q = 2e-6\n",
    "robs = [0,0,0]\n",
    "E1 = calc_field_point([0.45,0,0],q,robs)\n",
    "V1 = calc_potential_point([0.45,0,0],q,robs)\n",
    "print()\n",
    "E2 = calc_field_point([0,-0.45,0],q,robs)\n",
    "V2 = calc_potential_point([0,-0.45,0],q,robs)\n",
    "print()\n",
    "E3 = calc_field_point([0.45,-0.45,0],-q,robs)\n",
    "V3 = calc_potential_point([0.45,-0.45,0],-q,robs)\n",
    "Etot = E1 + E2 + E3\n",
    "Vtot = V1 + V2 + V3\n",
    "print()\n",
    "print(Etot)\n",
    "print(Vtot)"
   ]
  },
  {
   "cell_type": "code",
   "execution_count": 4,
   "metadata": {},
   "outputs": [
    {
     "data": {
      "text/plain": [
       "9.523809523809524"
      ]
     },
     "execution_count": 4,
     "metadata": {},
     "output_type": "execute_result"
    }
   ],
   "source": []
  },
  {
   "cell_type": "markdown",
   "metadata": {},
   "source": [
    "# Problem 7"
   ]
  },
  {
   "cell_type": "code",
   "execution_count": 5,
   "metadata": {},
   "outputs": [
    {
     "name": "stdout",
     "output_type": "stream",
     "text": [
      "7.515000000000001e-21\n"
     ]
    }
   ],
   "source": [
    "vproton = 3e3\n",
    "mproton = 1.67e-27\n",
    "KE = 0.5 * mproton * vproton**2 \n",
    "print(KE)"
   ]
  },
  {
   "cell_type": "code",
   "execution_count": 6,
   "metadata": {},
   "outputs": [
    {
     "data": {
      "text/plain": [
       "3e-14"
      ]
     },
     "execution_count": 6,
     "metadata": {},
     "output_type": "execute_result"
    }
   ],
   "source": [
    "1.5e-17/0.5e-3"
   ]
  },
  {
   "cell_type": "markdown",
   "metadata": {},
   "source": [
    "# Problem 8"
   ]
  },
  {
   "cell_type": "code",
   "execution_count": 5,
   "metadata": {},
   "outputs": [
    {
     "name": "stdout",
     "output_type": "stream",
     "text": [
      "rsrc: [0.015 0.    0.   ]\n",
      "robs: [0.    0.005 0.   ]\n",
      "r = robs-rsrc = [-0.015  0.005  0.   ]\n",
      "|r|=0.0158\n",
      "rhat=[-0.9486833   0.31622777  0.        ]\n",
      "E = (9e9)(8e-06)/0.0002 <[-0.9486833   0.31622777  0.        ]>\n",
      "|E|=2.8800E+08\n",
      "E = [-2.73220790e+08  9.10735966e+07  0.00000000e+00]\n"
     ]
    }
   ],
   "source": [
    "#a\n",
    "qpt = 8e-6\n",
    "Enet = calc_field_point([0.015,0,0],qpt,[0,0.005,0] )"
   ]
  },
  {
   "cell_type": "code",
   "execution_count": 10,
   "metadata": {},
   "outputs": [
    {
     "name": "stdout",
     "output_type": "stream",
     "text": [
      "rsrc: [0.015 0.    0.   ]\n",
      "robs: [0.   0.05 0.  ]\n",
      "r = robs-rsrc = [-0.015  0.05   0.   ]\n",
      "|r|=0.0522\n",
      "rhat=[-0.28734789  0.95782629  0.        ]\n",
      "E = (9e9)(8e-06)/0.0027 <[-0.28734789  0.95782629  0.        ]>\n",
      "|E|=2.6422E+07\n",
      "E = [-7592311.10487225 25307703.68290749        0.        ]\n",
      "\n",
      "rsrc: [0 0 0]\n",
      "robs: [0.   0.05 0.  ]\n",
      "r = robs-rsrc = [0.   0.05 0.  ]\n",
      "|r|=0.0500\n",
      "rhat=[0. 1. 0.]\n",
      "E = (9e9)(5e-06)/0.0025 <[0. 1. 0.]>\n",
      "|E|=1.8000E+07\n",
      "E = [       0. 18000000.        0.]\n",
      "\n",
      "[-0.75923111  4.33077037  0.        ]\n"
     ]
    }
   ],
   "source": [
    "#b\n",
    "qpt = 8e-6\n",
    "qsphere = 5e-6\n",
    "Ept = calc_field_point([0.015,0,0],qpt,[0,0.05,0])\n",
    "print()\n",
    "Esp = calc_field_point([0,0,0],qsphere,[0,0.05,0])\n",
    "Enet = Ept + Esp\n",
    "print()\n",
    "print(Enet/1e7)"
   ]
  },
  {
   "cell_type": "code",
   "execution_count": 14,
   "metadata": {},
   "outputs": [
    {
     "data": {
      "text/plain": [
       "1.2500000000000002"
      ]
     },
     "execution_count": 14,
     "metadata": {},
     "output_type": "execute_result"
    }
   ],
   "source": [
    ".05**3 * 1e4"
   ]
  },
  {
   "cell_type": "code",
   "execution_count": null,
   "metadata": {},
   "outputs": [],
   "source": []
  }
 ],
 "metadata": {
  "kernelspec": {
   "display_name": "Python 3",
   "language": "python",
   "name": "python3"
  },
  "language_info": {
   "codemirror_mode": {
    "name": "ipython",
    "version": 3
   },
   "file_extension": ".py",
   "mimetype": "text/x-python",
   "name": "python",
   "nbconvert_exporter": "python",
   "pygments_lexer": "ipython3",
   "version": "3.7.6"
  }
 },
 "nbformat": 4,
 "nbformat_minor": 4
}
